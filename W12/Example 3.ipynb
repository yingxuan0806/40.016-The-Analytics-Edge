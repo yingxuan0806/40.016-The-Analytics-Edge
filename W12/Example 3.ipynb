{
 "cells": [
  {
   "cell_type": "code",
   "execution_count": 1,
   "metadata": {},
   "outputs": [],
   "source": [
    "# LOAD PACKAGES\n",
    "# -------------\n",
    "using JuMP  # Need to say it whenever we use JuMP\n",
    "using GLPK  # Loading the GLPK module for using its solver\n",
    "\n",
    "# MODEL CONSTRUCTION\n",
    "# ------------------\n",
    "sfMipModel = Model() \n",
    "set_optimizer(sfMipModel,GLPK.Optimizer) # No need to chose between LP and MILP "
   ]
  },
  {
   "cell_type": "code",
   "execution_count": 2,
   "metadata": {},
   "outputs": [
    {
     "data": {
      "text/plain": [
       "3-element Array{Float64,1}:\n",
       " 0.1716\n",
       " 0.361\n",
       " 0.0705"
      ]
     },
     "execution_count": 2,
     "metadata": {},
     "output_type": "execute_result"
    }
   ],
   "source": [
    "# INPUT DATA\n",
    "# ----------\n",
    "\n",
    "n = 5 # no. of continuous decision variables\n",
    "p = 4 # no. of integer decision variables\n",
    "m = 3 # no. of constraints\n",
    "\n",
    "# coefficients\n",
    "A = [0.7511 -0.1357 0.7955 -0.4567 0.1356; -0.6670 -0.3326 0.1657 -0.5519 -0.9367; 1.5894 -0.1302 -0.4313 -0.4875 0.4179]\n",
    "B = [-0.09520 -0.28056 -1.33978 0.6506; -0.8581 -0.3518 1.2788 1.5114; -0.5925 1.3477 0.1589 0.03495]\n",
    "c = [0.3468; 0.8687; 0.1200; 0.5024; 0.2884]\n",
    "d = [0.2017; 0.2712; 0.4997; 0.9238]\n",
    "f = [0.1716; 0.3610; 0.0705]"
   ]
  },
  {
   "cell_type": "code",
   "execution_count": 3,
   "metadata": {},
   "outputs": [
    {
     "data": {
      "text/plain": [
       "4-element Array{VariableRef,1}:\n",
       " y[1]\n",
       " y[2]\n",
       " y[3]\n",
       " y[4]"
      ]
     },
     "execution_count": 3,
     "metadata": {},
     "output_type": "execute_result"
    }
   ],
   "source": [
    "# VARIABLES\n",
    "# ---------\n",
    "\n",
    "# We work with the two vectors of decision variables\n",
    "@variable(sfMipModel, x[1:n] >=0)      # continuous\n",
    "@variable(sfMipModel, y[1:p] >=0, Int) # integer "
   ]
  },
  {
   "cell_type": "code",
   "execution_count": 4,
   "metadata": {
    "scrolled": true
   },
   "outputs": [
    {
     "data": {
      "text/plain": [
       "3-element Array{ConstraintRef{Model,MathOptInterface.ConstraintIndex{MathOptInterface.ScalarAffineFunction{Float64},MathOptInterface.EqualTo{Float64}},ScalarShape},1}:\n",
       " con[1] : 0.7511 x[1] - 0.1357 x[2] + 0.7955 x[3] - 0.4567 x[4] + 0.1356 x[5] - 0.0952 y[1] - 0.28056 y[2] - 1.33978 y[3] + 0.6506 y[4] = 0.1716\n",
       " con[2] : -0.667 x[1] - 0.3326 x[2] + 0.1657 x[3] - 0.5519 x[4] - 0.9367 x[5] - 0.8581 y[1] - 0.3518 y[2] + 1.2788 y[3] + 1.5114 y[4] = 0.361\n",
       " con[3] : 1.5894 x[1] - 0.1302 x[2] - 0.4313 x[3] - 0.4875 x[4] + 0.4179 x[5] - 0.5925 y[1] + 1.3477 y[2] + 0.1589 y[3] + 0.03495 y[4] = 0.0705"
      ]
     },
     "execution_count": 4,
     "metadata": {},
     "output_type": "execute_result"
    }
   ],
   "source": [
    "# CONSTRAINTS\n",
    "# -----------\n",
    "\n",
    "# We define a vector of constraints\n",
    "@constraint(sfMipModel, con[i = 1:3], A[i,:]'x + B[i,:]'y == f[i]) "
   ]
  },
  {
   "cell_type": "code",
   "execution_count": 5,
   "metadata": {
    "scrolled": true
   },
   "outputs": [
    {
     "name": "stdout",
     "output_type": "stream",
     "text": [
      "The optimization problem to be solved is:\n",
      "Min 0.3468 x[1] + 0.8687 x[2] + 0.12 x[3] + 0.5024 x[4] + 0.2884 x[5] + 0.2017 y[1] + 0.2712 y[2] + 0.4997 y[3] + 0.9238 y[4]\n",
      "Subject to\n",
      " con[1] : 0.7511 x[1] - 0.1357 x[2] + 0.7955 x[3] - 0.4567 x[4] + 0.1356 x[5] - 0.0952 y[1] - 0.28056 y[2] - 1.33978 y[3] + 0.6506 y[4] = 0.1716\n",
      " con[2] : -0.667 x[1] - 0.3326 x[2] + 0.1657 x[3] - 0.5519 x[4] - 0.9367 x[5] - 0.8581 y[1] - 0.3518 y[2] + 1.2788 y[3] + 1.5114 y[4] = 0.361\n",
      " con[3] : 1.5894 x[1] - 0.1302 x[2] - 0.4313 x[3] - 0.4875 x[4] + 0.4179 x[5] - 0.5925 y[1] + 1.3477 y[2] + 0.1589 y[3] + 0.03495 y[4] = 0.0705\n",
      " x[1] ≥ 0.0\n",
      " x[2] ≥ 0.0\n",
      " x[3] ≥ 0.0\n",
      " x[4] ≥ 0.0\n",
      " x[5] ≥ 0.0\n",
      " y[1] ≥ 0.0\n",
      " y[2] ≥ 0.0\n",
      " y[3] ≥ 0.0\n",
      " y[4] ≥ 0.0\n",
      " y[1] integer\n",
      " y[2] integer\n",
      " y[3] integer\n",
      " y[4] integer\n"
     ]
    }
   ],
   "source": [
    "# OBJECTIVE\n",
    "# ---------\n",
    "\n",
    "# Minimize cTx + dTy\n",
    "@objective(sfMipModel, Min, c'x + d'y) \n",
    "\n",
    "# PRINT THE MODEL IN A HUMAN-READABLE FORMAT\n",
    "# ------------------------------------------\n",
    "println(\"The optimization problem to be solved is:\")\n",
    "print(sfMipModel) # Shows the model constructed in a human-readable form\n"
   ]
  },
  {
   "cell_type": "code",
   "execution_count": 5,
   "metadata": {},
   "outputs": [
    {
     "data": {
      "text/plain": [
       "OPTIMAL::TerminationStatusCode = 1"
      ]
     },
     "execution_count": 5,
     "metadata": {},
     "output_type": "execute_result"
    }
   ],
   "source": [
    "# SOLVE IT\n",
    "# --------\n",
    "\n",
    "status = optimize!(sfMipModel) # solves the model  \n",
    "termination_status(sfMipModel)"
   ]
  },
  {
   "cell_type": "code",
   "execution_count": 6,
   "metadata": {},
   "outputs": [
    {
     "name": "stdout",
     "output_type": "stream",
     "text": [
      "Objective value: 0.0\n",
      "x = [0.11275211128629697, 0.0, 0.4182160077930957, 3.1663213159328776, 0.0]\n",
      "y = [2.0, 2.0, 0.0, 3.0]\n"
     ]
    }
   ],
   "source": [
    "# DISPLAY THE RESULTS\n",
    "# -------------------\n",
    "\n",
    "println(\"Objective value: \", objective_value(sfMipModel)) \n",
    "println(\"x = \", value.(x))\n",
    "println(\"y = \", value.(y)) "
   ]
  },
  {
   "cell_type": "code",
   "execution_count": null,
   "metadata": {},
   "outputs": [],
   "source": []
  },
  {
   "cell_type": "code",
   "execution_count": null,
   "metadata": {},
   "outputs": [],
   "source": []
  }
 ],
 "metadata": {
  "kernelspec": {
   "display_name": "Julia 1.5.1",
   "language": "julia",
   "name": "julia-1.5"
  },
  "language_info": {
   "file_extension": ".jl",
   "mimetype": "application/julia",
   "name": "julia",
   "version": "1.5.1"
  }
 },
 "nbformat": 4,
 "nbformat_minor": 2
}
