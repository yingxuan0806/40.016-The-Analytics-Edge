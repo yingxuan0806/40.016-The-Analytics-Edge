{
 "cells": [
  {
   "cell_type": "code",
   "execution_count": 1,
   "metadata": {},
   "outputs": [
    {
     "name": "stderr",
     "output_type": "stream",
     "text": [
      "┌ Info: Precompiling Ipopt [b6b21f68-93f8-5de0-b562-5493be1d77c9]\n",
      "└ @ Base loading.jl:1278\n"
     ]
    },
    {
     "data": {
      "text/plain": [
       "60"
      ]
     },
     "execution_count": 1,
     "metadata": {},
     "output_type": "execute_result"
    }
   ],
   "source": [
    "# LOAD PACKAGES\n",
    "# -------------\n",
    "using JuMP  # Need to say it whenever we use JuMP\n",
    "using Ipopt # Loading the GLPK module for using its solver \n",
    "\n",
    "# MODEL CONSTRUCTION\n",
    "# ------------------\n",
    "model = Model(Ipopt.Optimizer) \n",
    "set_time_limit_sec(model::Model, 60)"
   ]
  },
  {
   "cell_type": "code",
   "execution_count": 2,
   "metadata": {},
   "outputs": [
    {
     "data": {
      "text/plain": [
       "1×20 Array{Int64,2}:\n",
       " 34  35  33  32  35  31  34  35  34  …  32  30  34  33  30  32  35  30  33"
      ]
     },
     "execution_count": 2,
     "metadata": {},
     "output_type": "execute_result"
    }
   ],
   "source": [
    "# INPUT DATA\n",
    "# ----------\n",
    "\n",
    "# Number of decision variables (i.e., prices to set)\n",
    "n = 20\n",
    "\n",
    "# Parameters\n",
    "valuation = [46.7 46.5 46.9 43.8 48.8 42.7 46.4 39.8 37.6 33.5 27.5 35.4 33.5 37.6 40.8 35.2 38.7 42.3 36.8 41.8]\n",
    "# baseprice = [45.5 46 45 43 47 42 45 39 37 33 27 35 33 37 39 35 38 41 36 40]\n",
    "cost      = [34 35 33 32 35 31 34 35 34 29 24 32 30 34 33 30 32 35 30 33]"
   ]
  },
  {
   "cell_type": "code",
   "execution_count": 3,
   "metadata": {},
   "outputs": [
    {
     "data": {
      "text/latex": [
       "$$ normp $$"
      ],
      "text/plain": [
       "normp"
      ]
     },
     "execution_count": 3,
     "metadata": {},
     "output_type": "execute_result"
    }
   ],
   "source": [
    "# VARIABLES\n",
    "# ---------\n",
    "\n",
    "# ...\n",
    "@variable(model,p[1:n] >= 0)\n",
    "@variable(model,normp  >= 0)"
   ]
  },
  {
   "cell_type": "code",
   "execution_count": 4,
   "metadata": {},
   "outputs": [
    {
     "data": {
      "text/latex": [
       "$$ (1.0 + (exp(46.7 - p_{1}) + exp(46.5 - p_{2}) + exp(46.9 - p_{3}) + exp(43.8 - p_{4}) + exp(48.8 - p_{5}) + exp(42.7 - p_{6}) + exp(46.4 - p_{7}) + exp(39.8 - p_{8}) + exp(37.6 - p_{9}) + exp(33.5 - p_{10}) + exp(27.5 - p_{11}) + exp(35.4 - p_{12}) + exp(33.5 - p_{13}) + exp(37.6 - p_{14}) + exp(40.8 - p_{15}) + exp(35.2 - p_{16}) + exp(38.7 - p_{17}) + exp(42.3 - p_{18}) + exp(36.8 - p_{19}) + exp(41.8 - p_{20}))) - normp = 0 $$"
      ],
      "text/plain": [
       "(1.0 + (exp(46.7 - p[1]) + exp(46.5 - p[2]) + exp(46.9 - p[3]) + exp(43.8 - p[4]) + exp(48.8 - p[5]) + exp(42.7 - p[6]) + exp(46.4 - p[7]) + exp(39.8 - p[8]) + exp(37.6 - p[9]) + exp(33.5 - p[10]) + exp(27.5 - p[11]) + exp(35.4 - p[12]) + exp(33.5 - p[13]) + exp(37.6 - p[14]) + exp(40.8 - p[15]) + exp(35.2 - p[16]) + exp(38.7 - p[17]) + exp(42.3 - p[18]) + exp(36.8 - p[19]) + exp(41.8 - p[20]))) - normp = 0"
      ]
     },
     "execution_count": 4,
     "metadata": {},
     "output_type": "execute_result"
    }
   ],
   "source": [
    "# CONSTRAINTS\n",
    "# -----------\n",
    "\n",
    "# ...\n",
    "@NLconstraint(model,1+sum(exp(valuation[i]-p[i]) for i = 1:n)==normp)"
   ]
  },
  {
   "cell_type": "code",
   "execution_count": 5,
   "metadata": {
    "scrolled": true
   },
   "outputs": [
    {
     "name": "stdout",
     "output_type": "stream",
     "text": [
      "The optimization problem to be solved is:\n",
      "Max ((p[1] - 34.0) * exp(46.7 - p[1])) / normp + ((p[2] - 35.0) * exp(46.5 - p[2])) / normp + ((p[3] - 33.0) * exp(46.9 - p[3])) / normp + ((p[4] - 32.0) * exp(43.8 - p[4])) / normp + ((p[5] - 35.0) * exp(48.8 - p[5])) / normp + ((p[6] - 31.0) * exp(42.7 - p[6])) / normp + ((p[7] - 34.0) * exp(46.4 - p[7])) / normp + ((p[8] - 35.0) * exp(39.8 - p[8])) / normp + ((p[9] - 34.0) * exp(37.6 - p[9])) / normp + ((p[10] - 29.0) * exp(33.5 - p[10])) / normp + ((p[11] - 24.0) * exp(27.5 - p[11])) / normp + ((p[12] - 32.0) * exp(35.4 - p[12])) / normp + ((p[13] - 30.0) * exp(33.5 - p[13])) / normp + ((p[14] - 34.0) * exp(37.6 - p[14])) / normp + ((p[15] - 33.0) * exp(40.8 - p[15])) / normp + ((p[16] - 30.0) * exp(35.2 - p[16])) / normp + ((p[17] - 32.0) * exp(38.7 - p[17])) / normp + ((p[18] - 35.0) * exp(42.3 - p[18])) / normp + ((p[19] - 30.0) * exp(36.8 - p[19])) / normp + ((p[20] - 33.0) * exp(41.8 - p[20])) / normp\n",
      "Subject to\n",
      " p[1] ≥ 0.0\n",
      " p[2] ≥ 0.0\n",
      " p[3] ≥ 0.0\n",
      " p[4] ≥ 0.0\n",
      " p[5] ≥ 0.0\n",
      " p[6] ≥ 0.0\n",
      " p[7] ≥ 0.0\n",
      " p[8] ≥ 0.0\n",
      " p[9] ≥ 0.0\n",
      " p[10] ≥ 0.0\n",
      " p[11] ≥ 0.0\n",
      " p[12] ≥ 0.0\n",
      " p[13] ≥ 0.0\n",
      " p[14] ≥ 0.0\n",
      " p[15] ≥ 0.0\n",
      " p[16] ≥ 0.0\n",
      " p[17] ≥ 0.0\n",
      " p[18] ≥ 0.0\n",
      " p[19] ≥ 0.0\n",
      " p[20] ≥ 0.0\n",
      " normp ≥ 0.0\n",
      " (1.0 + (exp(46.7 - p[1]) + exp(46.5 - p[2]) + exp(46.9 - p[3]) + exp(43.8 - p[4]) + exp(48.8 - p[5]) + exp(42.7 - p[6]) + exp(46.4 - p[7]) + exp(39.8 - p[8]) + exp(37.6 - p[9]) + exp(33.5 - p[10]) + exp(27.5 - p[11]) + exp(35.4 - p[12]) + exp(33.5 - p[13]) + exp(37.6 - p[14]) + exp(40.8 - p[15]) + exp(35.2 - p[16]) + exp(38.7 - p[17]) + exp(42.3 - p[18]) + exp(36.8 - p[19]) + exp(41.8 - p[20]))) - normp = 0\n"
     ]
    }
   ],
   "source": [
    "# OBJECTIVE\n",
    "# ---------\n",
    "\n",
    "# Objective function\n",
    "@NLobjective(model, Max, sum((p[i]-cost[i])*exp(valuation[i]-p[i])/normp for i = 1:n))\n",
    "\n",
    "# PRINT THE MODEL IN A HUMAN-READABLE FORMAT\n",
    "# ------------------------------------------\n",
    "println(\"The optimization problem to be solved is:\")\n",
    "print(model) # Shows the model constructed in a human-readable form"
   ]
  },
  {
   "cell_type": "code",
   "execution_count": 7,
   "metadata": {},
   "outputs": [
    {
     "name": "stdout",
     "output_type": "stream",
     "text": [
      "\n",
      "******************************************************************************\n",
      "This program contains Ipopt, a library for large-scale nonlinear optimization.\n",
      " Ipopt is released as open source code under the Eclipse Public License (EPL).\n",
      "         For more information visit http://projects.coin-or.org/Ipopt\n",
      "******************************************************************************\n",
      "\n",
      "This is Ipopt version 3.13.2, running with linear solver mumps.\n",
      "NOTE: Other linear solvers might be more efficient (see Ipopt documentation).\n",
      "\n",
      "Number of nonzeros in equality constraint Jacobian...:       21\n",
      "Number of nonzeros in inequality constraint Jacobian.:        0\n",
      "Number of nonzeros in Lagrangian Hessian.............:       61\n",
      "\n",
      "Total number of variables............................:       21\n",
      "                     variables with only lower bounds:       21\n",
      "                variables with lower and upper bounds:        0\n",
      "                     variables with only upper bounds:        0\n",
      "Total number of equality constraints.................:        1\n",
      "Total number of inequality constraints...............:        0\n",
      "        inequality constraints with only lower bounds:        0\n",
      "   inequality constraints with lower and upper bounds:        0\n",
      "        inequality constraints with only upper bounds:        0\n",
      "\n",
      "iter    objective    inf_pr   inf_du lg(mu)  ||d||  lg(rg) alpha_du alpha_pr  ls\n",
      "   0 -7.8948002e+24 2.28e+21 7.89e+18  -1.0 0.00e+00    -  0.00e+00 0.00e+00   0\n",
      "   1 -2.8617670e+24 8.39e+20 2.90e+18  -1.0 1.00e+00    -  1.09e-02 1.00e+00f  1\n",
      "   2 -1.0368889e+24 3.09e+20 1.07e+18  -1.0 1.00e+00    -  1.00e+00 1.00e+00f  1\n",
      "   3 -3.7551104e+23 1.14e+20 3.93e+17  -1.0 1.00e+00    -  1.00e+00 1.00e+00f  1\n",
      "   4 -1.3592280e+23 4.18e+19 1.44e+17  -1.0 1.00e+00    -  1.00e+00 1.00e+00f  1\n",
      "   5 -4.9172946e+22 1.54e+19 5.31e+16  -1.0 1.00e+00    -  1.00e+00 1.00e+00f  1\n",
      "   6 -1.7779032e+22 5.65e+18 1.95e+16  -1.0 1.00e+00    -  1.00e+00 1.00e+00f  1\n",
      "   7 -6.4242115e+21 2.08e+18 7.19e+15  -1.0 1.00e+00    -  1.00e+00 1.00e+00f  1\n",
      "   8 -2.3197505e+21 7.65e+17 2.64e+15  -1.0 1.00e+00    -  1.00e+00 1.00e+00f  1\n",
      "   9 -8.3704730e+20 2.81e+17 9.72e+14  -1.0 1.00e+00    -  1.00e+00 1.00e+00f  1\n",
      "iter    objective    inf_pr   inf_du lg(mu)  ||d||  lg(rg) alpha_du alpha_pr  ls\n",
      "  10 -3.0180109e+20 1.04e+17 3.57e+14  -1.0 1.00e+00    -  1.00e+00 1.00e+00f  1\n",
      "  11 -1.0872398e+20 3.81e+16 1.31e+14  -1.0 1.00e+00    -  1.00e+00 1.00e+00f  1\n",
      "  12 -3.9131952e+19 1.40e+16 4.83e+13  -1.0 1.00e+00    -  1.00e+00 1.00e+00f  1\n",
      "  13 -1.4070284e+19 5.15e+15 1.78e+13  -1.0 1.00e+00    -  1.00e+00 1.00e+00f  1\n",
      "  14 -5.0535629e+18 1.90e+15 6.53e+12  -1.0 1.00e+00    -  1.00e+00 1.00e+00f  1\n",
      "  15 -1.8128750e+18 6.98e+14 2.40e+12  -1.0 1.00e+00    -  1.00e+00 1.00e+00f  1\n",
      "  16 -6.4946795e+17 2.57e+14 8.83e+11  -1.0 1.00e+00    -  1.00e+00 1.00e+00f  1\n",
      "  17 -2.3232834e+17 9.44e+13 3.25e+11  -1.0 1.00e+00    -  1.00e+00 1.00e+00f  1\n",
      "  18 -8.2970661e+16 3.47e+13 1.19e+11  -1.0 1.00e+00    -  1.00e+00 1.00e+00f  1\n",
      "  19 -2.9575603e+16 1.28e+13 4.38e+10  -1.0 1.00e+00    -  1.00e+00 1.00e+00f  1\n",
      "iter    objective    inf_pr   inf_du lg(mu)  ||d||  lg(rg) alpha_du alpha_pr  ls\n",
      "  20 -1.0520094e+16 4.70e+12 1.61e+10  -1.0 1.02e+00    -  1.00e+00 1.00e+00f  1\n",
      "  21 -3.7329240e+15 1.73e+12 5.92e+09  -1.0 1.08e+00    -  1.00e+00 1.00e+00f  1\n",
      "  22 -1.3208618e+15 6.36e+11 2.17e+09  -1.0 1.28e+00    -  1.00e+00 1.00e+00f  1\n",
      "  23 -4.6584106e+14 2.34e+11 7.99e+08  -1.0 2.03e+00    -  1.00e+00 1.00e+00f  1\n",
      "  24 -1.6365391e+14 8.61e+10 2.93e+08  -1.0 7.51e+00    -  1.00e+00 1.00e+00f  1\n",
      "  25 -5.7224055e+13 3.17e+10 1.08e+08  -1.0 3.50e+01    -  9.91e-01 1.00e+00f  1\n",
      "  26 -1.9894476e+13 1.17e+10 3.95e+07  -1.0 3.50e+03    -  1.00e+00 1.00e+00f  1\n",
      "  27 -6.8667053e+12 4.29e+09 1.45e+07  -1.0 9.64e+04    -  1.00e+00 1.00e+00f  1\n",
      "  28 -2.3480345e+12 1.58e+09 5.29e+06  -1.0 1.16e+00    -  1.00e+00 1.00e+00f  1\n",
      "  29 -7.9286911e+11 5.80e+08 1.93e+06  -1.0 1.57e+00    -  1.00e+00 1.00e+00f  1\n",
      "iter    objective    inf_pr   inf_du lg(mu)  ||d||  lg(rg) alpha_du alpha_pr  ls\n",
      "  30 -2.6300466e+11 2.13e+08 7.05e+05  -1.0 3.74e+00    -  1.00e+00 1.00e+00f  1\n",
      "  31 -8.4899995e+10 7.85e+07 2.55e+05  -1.0 2.90e+01    -  1.00e+00 1.00e+00f  1\n",
      "  32 -2.6153715e+10 2.89e+07 9.15e+04  -1.0 2.32e+02    -  9.92e-01 1.00e+00f  1\n",
      "  33 -7.2921299e+09 1.06e+07 3.17e+04  -1.0 2.19e+04    -  9.98e-01 1.00e+00f  1\n",
      "  34 -1.4067994e+09 3.91e+06 9.06e+03  -1.0 8.18e+04    -  9.92e-01 1.00e+00f  1\n",
      "  35  1.0238140e+10 1.45e+06 1.41e+06  -1.0 7.92e+04    -  9.90e-01 1.00e+00f  1\n",
      "  36  1.2847137e+10 6.45e+05 3.36e+11  -1.0 1.49e+00  12.0 1.00e+00 1.00e+00f  1\n",
      "  37  6.8772002e+09 2.48e+05 2.38e+11  -1.0 1.28e+00  11.5 1.00e+00 1.00e+00h  1\n",
      "  38  1.8803821e+09 9.33e+04 1.28e+11  -1.0 1.13e+00  11.0 1.00e+00 1.00e+00h  1\n",
      "  39  3.1797970e+08 3.49e+04 6.03e+10  -1.7 1.10e+00  10.6 5.94e-01 1.00e+00h  1\n",
      "iter    objective    inf_pr   inf_du lg(mu)  ||d||  lg(rg) alpha_du alpha_pr  ls\n",
      "  40  4.1716769e+07 1.30e+04 2.66e+10  -2.5 1.08e+00  10.1 1.00e+00 1.00e+00h  1\n",
      "  41  5.0291606e+06 4.83e+03 1.13e+10  -2.5 1.06e+00   9.6 3.22e-01 1.00e+00h  1\n",
      "  42  3.2883581e+02 4.83e+03 1.13e+10  -3.8 4.98e+05    -  1.10e-08 1.71e-04h 12\n",
      "  43  5.6930544e+00 9.09e-12 5.86e-02  -3.8 4.83e+03    -  1.77e-02 1.00e+00h  1\n",
      "  44  5.6929548e+00 2.68e-04 1.70e-05  -3.8 7.26e+02    -  1.00e+00 1.00e+00f  1\n",
      "  45  5.6929545e+00 9.09e-13 9.49e+01  -5.7 6.92e-08   9.1 1.00e+00 1.00e+00h  1\n",
      "  46  5.6929545e+00 7.75e-08 2.09e-07  -5.7 1.43e+04    -  1.00e+00 1.00e+00f  1\n",
      "  47  5.6929545e+00 9.09e-13 9.15e-03  -8.6 2.00e-11   8.7 1.00e+00 1.00e+00h  1\n",
      "  48  5.6929550e+00 5.46e-06 2.37e-09  -8.6 2.16e+04    -  1.00e+00 1.00e+00f  1\n",
      "\n",
      "Number of Iterations....: 48\n",
      "\n",
      "                                   (scaled)                 (unscaled)\n",
      "Objective...............:  -5.6929550298482482e-08    5.6929550298482479e+00\n",
      "Dual infeasibility......:   2.3663924575549074e-09    2.3663924575549075e-01\n",
      "Constraint violation....:   5.4586489568464457e-14    5.4586489568464458e-06\n",
      "Complementarity.........:   2.5059035596800622e-09   -2.5059035596800622e-01\n",
      "Overall NLP error.......:   2.5059035596800622e-09    2.3663924575549075e-01\n",
      "\n",
      "\n",
      "Number of objective function evaluations             = 61\n",
      "Number of objective gradient evaluations             = 49\n",
      "Number of equality constraint evaluations            = 61\n",
      "Number of inequality constraint evaluations          = 0\n",
      "Number of equality constraint Jacobian evaluations   = 49\n",
      "Number of inequality constraint Jacobian evaluations = 0\n",
      "Number of Lagrangian Hessian evaluations             = 48\n",
      "Total CPU secs in IPOPT (w/o function evaluations)   =      2.797\n",
      "Total CPU secs in NLP function evaluations           =      0.711\n",
      "\n",
      "EXIT: Optimal Solution Found.\n"
     ]
    },
    {
     "data": {
      "text/plain": [
       "LOCALLY_SOLVED::TerminationStatusCode = 4"
      ]
     },
     "execution_count": 7,
     "metadata": {},
     "output_type": "execute_result"
    }
   ],
   "source": [
    "# SOLVE IT\n",
    "# --------\n",
    "\n",
    "status = optimize!(model) # solves the model  \n",
    "termination_status(model)"
   ]
  },
  {
   "cell_type": "code",
   "execution_count": 9,
   "metadata": {},
   "outputs": [
    {
     "name": "stdout",
     "output_type": "stream",
     "text": [
      "Objective value: 5.692955029848248\n",
      "p = [40.21486874287198, 40.06369144345284, 40.37095859145889, 37.646275084649396, 42.24180467188804, 36.666569792167756, 39.94646154579226, 35.79351678219168, 57.64239229352859, 99999.99999998999, 99999.99999998999, 53026.64179476748, 99999.99999998999, 57.64239229352859, 35.72355017772144, 99943.48755121116, 35.84891364883258, 36.80684953115651, 447.1797358509091, 36.293132060102245]\n",
      "normp = 4914.582555468304\n"
     ]
    }
   ],
   "source": [
    "# DISPLAY THE RESULTS\n",
    "# -------------------\n",
    "println(\"Objective value: \", objective_value(model)) \n",
    "println(\"p = \", value.(p)) \n",
    "println(\"normp = \", value.(normp)) \n"
   ]
  },
  {
   "cell_type": "code",
   "execution_count": null,
   "metadata": {},
   "outputs": [],
   "source": []
  }
 ],
 "metadata": {
  "kernelspec": {
   "display_name": "Julia 1.5.3",
   "language": "julia",
   "name": "julia-1.5"
  },
  "language_info": {
   "file_extension": ".jl",
   "mimetype": "application/julia",
   "name": "julia",
   "version": "1.5.3"
  }
 },
 "nbformat": 4,
 "nbformat_minor": 2
}
