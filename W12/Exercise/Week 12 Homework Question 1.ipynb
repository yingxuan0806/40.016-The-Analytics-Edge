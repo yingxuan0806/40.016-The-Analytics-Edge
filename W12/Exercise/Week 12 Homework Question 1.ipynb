{
 "cells": [
  {
   "cell_type": "markdown",
   "metadata": {},
   "source": [
    "# Part (a)\n",
    "\n",
    "i. 8 decision variables, one for each type of stock. They represent the amount of shares we decide to sell for each stock.\n",
    "\n",
    "ii. Maximum values are the amount of each share we own. The minimum value is zero, where we do not sell anything.\n",
    "\n",
    "iii. $34.55(150-x)$\n",
    "\n",
    "iv. $50*23.67 - 0.01(50*23.67) - 0.3*50*(23.67-22.54) = 1154.715$"
   ]
  },
  {
   "cell_type": "markdown",
   "metadata": {},
   "source": [
    "# Part (b)"
   ]
  },
  {
   "cell_type": "code",
   "execution_count": 1,
   "metadata": {},
   "outputs": [],
   "source": [
    "# LOAD PACKAGES\n",
    "# -------------\n",
    "using JuMP\n",
    "using DataFrames\n",
    "using CSV\n",
    "using GLPK"
   ]
  },
  {
   "cell_type": "code",
   "execution_count": 2,
   "metadata": {},
   "outputs": [
    {
     "data": {
      "text/html": [
       "<table class=\"data-frame\"><thead><tr><th></th><th>Number</th><th>Stock</th><th>Number of Shares</th><th>Price Purchased Last Year</th><th>Current Price</th></tr><tr><th></th><th>Int64</th><th>String</th><th>Int64</th><th>Float64</th><th>Float64</th></tr></thead><tbody><p>8 rows × 6 columns (omitted printing of 1 columns)</p><tr><th>1</th><td>1</td><td>Yahoo!</td><td>150</td><td>15.68</td><td>31.8</td></tr><tr><th>2</th><td>2</td><td>General Electric</td><td>150</td><td>22.1</td><td>24.28</td></tr><tr><th>3</th><td>3</td><td>Microsoft</td><td>150</td><td>30.39</td><td>32.5</td></tr><tr><th>4</th><td>4</td><td>Bank of America</td><td>150</td><td>8.93</td><td>14.16</td></tr><tr><th>5</th><td>5</td><td>JPMorgan Chase</td><td>150</td><td>40.55</td><td>50.99</td></tr><tr><th>6</th><td>6</td><td>Cisco Systems, Inc</td><td>150</td><td>18.58</td><td>24.17</td></tr><tr><th>7</th><td>7</td><td>Intel</td><td>150</td><td>22.54</td><td>23.67</td></tr><tr><th>8</th><td>8</td><td>Pfizer</td><td>150</td><td>24.84</td><td>28.77</td></tr></tbody></table>"
      ],
      "text/latex": [
       "\\begin{tabular}{r|cccccc}\n",
       "\t& Number & Stock & Number of Shares & Price Purchased Last Year & Current Price & \\\\\n",
       "\t\\hline\n",
       "\t& Int64 & String & Int64 & Float64 & Float64 & \\\\\n",
       "\t\\hline\n",
       "\t1 & 1 & Yahoo! & 150 & 15.68 & 31.8 & $\\dots$ \\\\\n",
       "\t2 & 2 & General Electric & 150 & 22.1 & 24.28 & $\\dots$ \\\\\n",
       "\t3 & 3 & Microsoft & 150 & 30.39 & 32.5 & $\\dots$ \\\\\n",
       "\t4 & 4 & Bank of America & 150 & 8.93 & 14.16 & $\\dots$ \\\\\n",
       "\t5 & 5 & JPMorgan Chase & 150 & 40.55 & 50.99 & $\\dots$ \\\\\n",
       "\t6 & 6 & Cisco Systems, Inc & 150 & 18.58 & 24.17 & $\\dots$ \\\\\n",
       "\t7 & 7 & Intel & 150 & 22.54 & 23.67 & $\\dots$ \\\\\n",
       "\t8 & 8 & Pfizer & 150 & 24.84 & 28.77 & $\\dots$ \\\\\n",
       "\\end{tabular}\n"
      ],
      "text/plain": [
       "\u001b[1m8×6 DataFrame\u001b[0m\n",
       "\u001b[1m Row \u001b[0m│\u001b[1m Number \u001b[0m\u001b[1m Stock              \u001b[0m\u001b[1m Number of Shares \u001b[0m\u001b[1m Price Purchased Last Year\u001b[0m ⋯\n",
       "\u001b[1m     \u001b[0m│\u001b[90m Int64  \u001b[0m\u001b[90m String             \u001b[0m\u001b[90m Int64            \u001b[0m\u001b[90m Float64                  \u001b[0m ⋯\n",
       "─────┼──────────────────────────────────────────────────────────────────────────\n",
       "   1 │      1  Yahoo!                           150                      15.68 ⋯\n",
       "   2 │      2  General Electric                 150                      22.1\n",
       "   3 │      3  Microsoft                        150                      30.39\n",
       "   4 │      4  Bank of America                  150                       8.93\n",
       "   5 │      5  JPMorgan Chase                   150                      40.55 ⋯\n",
       "   6 │      6  Cisco Systems, Inc               150                      18.58\n",
       "   7 │      7  Intel                            150                      22.54\n",
       "   8 │      8  Pfizer                           150                      24.84\n",
       "\u001b[31m                                                               2 columns omitted\u001b[0m"
      ]
     },
     "execution_count": 2,
     "metadata": {},
     "output_type": "execute_result"
    }
   ],
   "source": [
    "# INPUT DATA\n",
    "# ----------\n",
    "n = 1:8\n",
    "Inv = DataFrame!(CSV.File(\"Investment.csv\")) #all coefficients are stored here"
   ]
  },
  {
   "cell_type": "code",
   "execution_count": 3,
   "metadata": {},
   "outputs": [
    {
     "data": {
      "text/latex": [
       "$$ \\begin{alignat*}{1}\\text{feasibility}\\\\\n",
       "\\text{Subject to} \\quad\\end{alignat*}\n",
       " $$"
      ],
      "text/plain": [
       "A JuMP Model\n",
       "Feasibility problem with:\n",
       "Variables: 0\n",
       "Model mode: AUTOMATIC\n",
       "CachingOptimizer state: EMPTY_OPTIMIZER\n",
       "Solver name: GLPK"
      ]
     },
     "execution_count": 3,
     "metadata": {},
     "output_type": "execute_result"
    }
   ],
   "source": [
    "# MODEL CONSTRUCTION\n",
    "# ------------------\n",
    "model = Model(GLPK.Optimizer)"
   ]
  },
  {
   "cell_type": "code",
   "execution_count": 4,
   "metadata": {},
   "outputs": [
    {
     "data": {
      "text/plain": [
       "1-dimensional DenseAxisArray{VariableRef,1,...} with index sets:\n",
       "    Dimension 1, 1:8\n",
       "And data, a 8-element Array{VariableRef,1}:\n",
       " x[1]\n",
       " x[2]\n",
       " x[3]\n",
       " x[4]\n",
       " x[5]\n",
       " x[6]\n",
       " x[7]\n",
       " x[8]"
      ]
     },
     "execution_count": 4,
     "metadata": {},
     "output_type": "execute_result"
    }
   ],
   "source": [
    "# VARIABLES\n",
    "# ---------\n",
    "@variable(model, 0 <= x[n] <= 150)"
   ]
  },
  {
   "cell_type": "code",
   "execution_count": 5,
   "metadata": {},
   "outputs": [
    {
     "data": {
      "text/latex": [
       "$ 26.646 x_{1} + 23.383200000000002 x_{2} + 31.541999999999994 x_{3} + 12.449399999999999 x_{4} + 47.348099999999995 x_{5} + 22.251299999999997 x_{6} + 23.094300000000004 x_{7} + 27.3033 x_{8} \\geq 10000.0 $"
      ],
      "text/plain": [
       "26.646 x[1] + 23.383200000000002 x[2] + 31.541999999999994 x[3] + 12.449399999999999 x[4] + 47.348099999999995 x[5] + 22.251299999999997 x[6] + 23.094300000000004 x[7] + 27.3033 x[8] >= 10000.0"
      ]
     },
     "execution_count": 5,
     "metadata": {},
     "output_type": "execute_result"
    }
   ],
   "source": [
    "# CONSTRAINTS\n",
    "# -----------\n",
    "@constraint(model, sum((x[i]*Inv[i,5])-(0.01*x[i]*Inv[i,5])-(0.3*(x[i]*(Inv[i,5]-Inv[i,4]))) for i = n)>= 10000)"
   ]
  },
  {
   "cell_type": "code",
   "execution_count": 6,
   "metadata": {},
   "outputs": [
    {
     "data": {
      "text/latex": [
       "$$ -29.5 x_{1} - 26.31 x_{2} - 34.55 x_{3} - 15.23 x_{4} - 62.43 x_{5} - 26.68 x_{6} - 23.85 x_{7} - 31.66 x_{8} + 37531.5 $$"
      ],
      "text/plain": [
       "-29.5 x[1] - 26.31 x[2] - 34.55 x[3] - 15.23 x[4] - 62.43 x[5] - 26.68 x[6] - 23.85 x[7] - 31.66 x[8] + 37531.5"
      ]
     },
     "execution_count": 6,
     "metadata": {},
     "output_type": "execute_result"
    }
   ],
   "source": [
    "# OBJECTIVE\n",
    "# ---------\n",
    "@objective(model, Max, sum(Inv[i,6]*(150-x[i]) for i = n))"
   ]
  },
  {
   "cell_type": "code",
   "execution_count": 7,
   "metadata": {},
   "outputs": [
    {
     "name": "stdout",
     "output_type": "stream",
     "text": [
      "The optimization problem to be solved is:\n",
      "Max -29.5 x[1] - 26.31 x[2] - 34.55 x[3] - 15.23 x[4] - 62.43 x[5] - 26.68 x[6] - 23.85 x[7] - 31.66 x[8] + 37531.5\n",
      "Subject to\n",
      " 26.646 x[1] + 23.383200000000002 x[2] + 31.541999999999994 x[3] + 12.449399999999999 x[4] + 47.348099999999995 x[5] + 22.251299999999997 x[6] + 23.094300000000004 x[7] + 27.3033 x[8] >= 10000.0\n",
      " x[1] >= 0.0\n",
      " x[2] >= 0.0\n",
      " x[3] >= 0.0\n",
      " x[4] >= 0.0\n",
      " x[5] >= 0.0\n",
      " x[6] >= 0.0\n",
      " x[7] >= 0.0\n",
      " x[8] >= 0.0\n",
      " x[1] <= 150.0\n",
      " x[2] <= 150.0\n",
      " x[3] <= 150.0\n",
      " x[4] <= 150.0\n",
      " x[5] <= 150.0\n",
      " x[6] <= 150.0\n",
      " x[7] <= 150.0\n",
      " x[8] <= 150.0\n"
     ]
    }
   ],
   "source": [
    "# CHECK THE MODEL\n",
    "# --------\n",
    "println(\"The optimization problem to be solved is:\")\n",
    "print(model)"
   ]
  },
  {
   "cell_type": "code",
   "execution_count": 8,
   "metadata": {},
   "outputs": [
    {
     "data": {
      "text/plain": [
       "OPTIMAL::TerminationStatusCode = 1"
      ]
     },
     "execution_count": 8,
     "metadata": {},
     "output_type": "execute_result"
    }
   ],
   "source": [
    "# SOLVE IT\n",
    "# --------\n",
    "status = optimize!(model) # solves the model  \n",
    "termination_status(model)"
   ]
  },
  {
   "cell_type": "code",
   "execution_count": 9,
   "metadata": {},
   "outputs": [
    {
     "name": "stdout",
     "output_type": "stream",
     "text": [
      "i.\n",
      "Objective value: 26773.662707348194\n",
      "Yahoo!: 67.72329805599341\n",
      "General Electric: 0.0\n",
      "Microsoft: 150.0\n",
      "Bank of America: 0.0\n",
      "JPMorgan Chase: 0.0\n",
      "Cisco Systems, Inc: 0.0\n",
      "Intel: 150.0\n",
      "Pfizer: 0.0\n"
     ]
    }
   ],
   "source": [
    "# DISPLAY THE RESULTS\n",
    "# -------------------\n",
    "println(\"i.\")\n",
    "println(\"Objective value: \", objective_value(model)) \n",
    "for i in n\n",
    "    println(Inv[i,2], \": \", value.(x[i]))\n",
    "end\n"
   ]
  },
  {
   "cell_type": "markdown",
   "metadata": {},
   "source": [
    "ii. If we want a diverse portfolio, we are not happy with this solution as we give up all our shares in 2 stocks."
   ]
  },
  {
   "cell_type": "markdown",
   "metadata": {},
   "source": [
    "# Part (c)"
   ]
  },
  {
   "cell_type": "code",
   "execution_count": 10,
   "metadata": {},
   "outputs": [
    {
     "name": "stdout",
     "output_type": "stream",
     "text": [
      "Objective value: 26468.541160516463\n",
      "Yahoo!: 75.00000000000004\n",
      "General Electric: 75.0\n",
      "Microsoft: 75.00000000000001\n",
      "Bank of America: 0.0\n",
      "JPMorgan Chase: 0.0\n",
      "Cisco Systems, Inc: 4.599281839712725\n",
      "Intel: 74.99999999999997\n",
      "Pfizer: 75.0\n"
     ]
    }
   ],
   "source": [
    "@constraint(model, Ub[i = n], x[i] <= 75)\n",
    "status = optimize!(model) # solves the model  \n",
    "termination_status(model)\n",
    "println(\"Objective value: \", objective_value(model)) \n",
    "#println(\"x = \", value.(x)) \n",
    "for i in n\n",
    "    println(Inv[i,2], \": \", value.(x[i]))\n",
    "end"
   ]
  }
 ],
 "metadata": {
  "kernelspec": {
   "display_name": "Julia 1.5.3",
   "language": "julia",
   "name": "julia-1.5"
  },
  "language_info": {
   "file_extension": ".jl",
   "mimetype": "application/julia",
   "name": "julia",
   "version": "1.5.3"
  }
 },
 "nbformat": 4,
 "nbformat_minor": 2
}
