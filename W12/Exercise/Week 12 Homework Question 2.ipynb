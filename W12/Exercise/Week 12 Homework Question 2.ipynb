{
 "cells": [
  {
   "cell_type": "markdown",
   "metadata": {},
   "source": [
    "# Part (a)\n",
    "\n",
    "i. Price of the inn, College students in the area positively affect Profitability.\n",
    "State population per inn, median income of the area negatively affect Profitability"
   ]
  },
  {
   "cell_type": "code",
   "execution_count": 1,
   "metadata": {},
   "outputs": [],
   "source": [
    "# LOAD PACKAGES\n",
    "# -------------\n",
    "using DataFrames\n",
    "using CSV"
   ]
  },
  {
   "cell_type": "code",
   "execution_count": 2,
   "metadata": {},
   "outputs": [
    {
     "data": {
      "text/html": [
       "<table class=\"data-frame\"><thead><tr><th></th><th>Hotel</th><th>Location</th><th>Price</th><th>Price (normalized)</th><th>Square Root of Median Income (normalized)</th></tr><tr><th></th><th>Int64</th><th>String</th><th>Int64</th><th>Float64</th><th>Float64</th></tr></thead><tbody><p>16 rows × 7 columns (omitted printing of 2 columns)</p><tr><th>1</th><td>1</td><td>Eureka, California</td><td>2925000</td><td>-0.3</td><td>-0.81</td></tr><tr><th>2</th><td>2</td><td>Fresno, California</td><td>10000000</td><td>1.7</td><td>-0.41</td></tr><tr><th>3</th><td>3</td><td>Fresno, California</td><td>3750000</td><td>-0.07</td><td>-0.41</td></tr><tr><th>4</th><td>4</td><td>Fresno, California</td><td>3500000</td><td>-0.14</td><td>-0.41</td></tr><tr><th>5</th><td>5</td><td>Fresno, California</td><td>325000</td><td>-1.04</td><td>-0.41</td></tr><tr><th>6</th><td>6</td><td>Long Beach, California</td><td>8950000</td><td>1.4</td><td>0.66</td></tr><tr><th>7</th><td>7</td><td>Los Angeles, California</td><td>1950000</td><td>-0.58</td><td>0.17</td></tr><tr><th>8</th><td>8</td><td>Los Angeles, California</td><td>1750000</td><td>-0.63</td><td>0.17</td></tr><tr><th>9</th><td>9</td><td>Los Angeles, California</td><td>4900000</td><td>0.26</td><td>0.17</td></tr><tr><th>10</th><td>10</td><td>South Lake Tahoe, California</td><td>1650000</td><td>-0.66</td><td>-0.79</td></tr><tr><th>11</th><td>11</td><td>South Lake Tahoe, California</td><td>1125000</td><td>-0.81</td><td>-0.79</td></tr><tr><th>12</th><td>12</td><td>South Lake Tahoe, California</td><td>2500000</td><td>-0.42</td><td>-0.79</td></tr><tr><th>13</th><td>13</td><td>South Lake Tahoe, California</td><td>1975000</td><td>-0.57</td><td>-0.79</td></tr><tr><th>14</th><td>14</td><td>South Lake Tahoe, California</td><td>3750000</td><td>-0.07</td><td>-0.79</td></tr><tr><th>15</th><td>15</td><td>South Lake Tahoe, California</td><td>1475000</td><td>-0.71</td><td>-0.79</td></tr><tr><th>16</th><td>16</td><td>South Lake Tahoe, California</td><td>750000</td><td>-0.92</td><td>-0.79</td></tr></tbody></table>"
      ],
      "text/latex": [
       "\\begin{tabular}{r|cccccc}\n",
       "\t& Hotel & Location & Price & Price (normalized) & Square Root of Median Income (normalized) & \\\\\n",
       "\t\\hline\n",
       "\t& Int64 & String & Int64 & Float64 & Float64 & \\\\\n",
       "\t\\hline\n",
       "\t1 & 1 & Eureka, California & 2925000 & -0.3 & -0.81 & $\\dots$ \\\\\n",
       "\t2 & 2 & Fresno, California & 10000000 & 1.7 & -0.41 & $\\dots$ \\\\\n",
       "\t3 & 3 & Fresno, California & 3750000 & -0.07 & -0.41 & $\\dots$ \\\\\n",
       "\t4 & 4 & Fresno, California & 3500000 & -0.14 & -0.41 & $\\dots$ \\\\\n",
       "\t5 & 5 & Fresno, California & 325000 & -1.04 & -0.41 & $\\dots$ \\\\\n",
       "\t6 & 6 & Long Beach, California & 8950000 & 1.4 & 0.66 & $\\dots$ \\\\\n",
       "\t7 & 7 & Los Angeles, California & 1950000 & -0.58 & 0.17 & $\\dots$ \\\\\n",
       "\t8 & 8 & Los Angeles, California & 1750000 & -0.63 & 0.17 & $\\dots$ \\\\\n",
       "\t9 & 9 & Los Angeles, California & 4900000 & 0.26 & 0.17 & $\\dots$ \\\\\n",
       "\t10 & 10 & South Lake Tahoe, California & 1650000 & -0.66 & -0.79 & $\\dots$ \\\\\n",
       "\t11 & 11 & South Lake Tahoe, California & 1125000 & -0.81 & -0.79 & $\\dots$ \\\\\n",
       "\t12 & 12 & South Lake Tahoe, California & 2500000 & -0.42 & -0.79 & $\\dots$ \\\\\n",
       "\t13 & 13 & South Lake Tahoe, California & 1975000 & -0.57 & -0.79 & $\\dots$ \\\\\n",
       "\t14 & 14 & South Lake Tahoe, California & 3750000 & -0.07 & -0.79 & $\\dots$ \\\\\n",
       "\t15 & 15 & South Lake Tahoe, California & 1475000 & -0.71 & -0.79 & $\\dots$ \\\\\n",
       "\t16 & 16 & South Lake Tahoe, California & 750000 & -0.92 & -0.79 & $\\dots$ \\\\\n",
       "\\end{tabular}\n"
      ],
      "text/plain": [
       "\u001b[1m16×7 DataFrame\u001b[0m\n",
       "\u001b[1m Row \u001b[0m│\u001b[1m Hotel \u001b[0m\u001b[1m Location                     \u001b[0m\u001b[1m Price    \u001b[0m\u001b[1m Price (normalized) \u001b[0m\u001b[1m Squa\u001b[0m ⋯\n",
       "\u001b[1m     \u001b[0m│\u001b[90m Int64 \u001b[0m\u001b[90m String                       \u001b[0m\u001b[90m Int64    \u001b[0m\u001b[90m Float64            \u001b[0m\u001b[90m Floa\u001b[0m ⋯\n",
       "─────┼──────────────────────────────────────────────────────────────────────────\n",
       "   1 │     1  Eureka, California             2925000               -0.3        ⋯\n",
       "   2 │     2  Fresno, California            10000000                1.7\n",
       "   3 │     3  Fresno, California             3750000               -0.07\n",
       "   4 │     4  Fresno, California             3500000               -0.14\n",
       "   5 │     5  Fresno, California              325000               -1.04       ⋯\n",
       "   6 │     6  Long Beach, California         8950000                1.4\n",
       "   7 │     7  Los Angeles, California        1950000               -0.58\n",
       "   8 │     8  Los Angeles, California        1750000               -0.63\n",
       "   9 │     9  Los Angeles, California        4900000                0.26       ⋯\n",
       "  10 │    10  South Lake Tahoe, California   1650000               -0.66\n",
       "  11 │    11  South Lake Tahoe, California   1125000               -0.81\n",
       "  12 │    12  South Lake Tahoe, California   2500000               -0.42\n",
       "  13 │    13  South Lake Tahoe, California   1975000               -0.57       ⋯\n",
       "  14 │    14  South Lake Tahoe, California   3750000               -0.07\n",
       "  15 │    15  South Lake Tahoe, California   1475000               -0.71\n",
       "  16 │    16  South Lake Tahoe, California    750000               -0.92\n",
       "\u001b[31m                                                               3 columns omitted\u001b[0m"
      ]
     },
     "execution_count": 2,
     "metadata": {},
     "output_type": "execute_result"
    }
   ],
   "source": [
    "# INPUT DATA\n",
    "# ----------\n",
    "quinta = DataFrame!(CSV.File(\"SelectingHotels.csv\")) #all coefficients are stored here"
   ]
  },
  {
   "cell_type": "code",
   "execution_count": 3,
   "metadata": {},
   "outputs": [
    {
     "name": "stdout",
     "output_type": "stream",
     "text": [
      "ii. Predicted profitability of hotel 1 is: 44.25989999999999\n"
     ]
    }
   ],
   "source": [
    "h1_val = 39.05 - 5.41*quinta[1,7] + 5.86*quinta[1,4] - 3.09*quinta[1,5] + 1.75*quinta[1,6]\n",
    "println(\"ii. Predicted profitability of hotel 1 is: \", h1_val)"
   ]
  },
  {
   "cell_type": "code",
   "execution_count": 4,
   "metadata": {},
   "outputs": [
    {
     "name": "stdout",
     "output_type": "stream",
     "text": [
      "[44.25989999999999, 53.36409999999999, 42.99189999999999, 42.58169999999999, 37.30769999999999, 49.0842, 23.743299999999994, 23.450299999999995, 28.665699999999998, 38.9173, 38.0383, 40.3237, 39.4447, 42.3747, 38.6243, 37.3937]\n"
     ]
    }
   ],
   "source": [
    "profit = zeros(16)\n",
    "for i = 1:16\n",
    "    profit[i] = 39.05 - 5.41*quinta[i,7] + 5.86*quinta[i,4] - 3.09*quinta[i,5] + 1.75*quinta[i,6]\n",
    "end\n",
    "println(profit)"
   ]
  },
  {
   "cell_type": "code",
   "execution_count": 5,
   "metadata": {},
   "outputs": [
    {
     "name": "stdout",
     "output_type": "stream",
     "text": [
      "iii. \n",
      "Hotel 2 has maximum profitability of 53.36409999999999\n",
      "Hotel 8 has minimum profitability of 23.450299999999995\n"
     ]
    }
   ],
   "source": [
    "println(\"iii. \")\n",
    "maxind = argmax(profit)\n",
    "println(\"Hotel \", maxind, \" has maximum profitability of \", profit[maxind])\n",
    "\n",
    "minind = argmin(profit)\n",
    "println(\"Hotel \", minind, \" has minimum profitability of \", profit[minind])\n"
   ]
  },
  {
   "cell_type": "markdown",
   "metadata": {},
   "source": [
    "# Part (b)\n",
    "\n",
    "i. We would purchase Hotel 2 at a price of 10,000,000 dollars."
   ]
  },
  {
   "cell_type": "code",
   "execution_count": 6,
   "metadata": {},
   "outputs": [
    {
     "name": "stdout",
     "output_type": "stream",
     "text": [
      "ii. Predicted profitability of greedy approach is: 53.36409999999999\n"
     ]
    }
   ],
   "source": [
    "h2_val = 39.05 - 5.41*quinta[2,7] + 5.86*quinta[2,4] - 3.09*quinta[2,5] + 1.75*quinta[2,6]\n",
    "println(\"ii. Predicted profitability of greedy approach is: \", h2_val)"
   ]
  },
  {
   "cell_type": "markdown",
   "metadata": {},
   "source": [
    "# Part (c)\n"
   ]
  },
  {
   "cell_type": "code",
   "execution_count": 7,
   "metadata": {},
   "outputs": [
    {
     "data": {
      "text/plain": [
       "1:16"
      ]
     },
     "execution_count": 7,
     "metadata": {},
     "output_type": "execute_result"
    }
   ],
   "source": [
    "# LOAD PACKAGES\n",
    "# -------------\n",
    "using JuMP\n",
    "using GLPK\n",
    "\n",
    "#for indexing convenience\n",
    "n = 1:16"
   ]
  },
  {
   "cell_type": "code",
   "execution_count": 8,
   "metadata": {},
   "outputs": [
    {
     "data": {
      "text/latex": [
       "$$ \\begin{alignat*}{1}\\text{feasibility}\\\\\n",
       "\\text{Subject to} \\quad\\end{alignat*}\n",
       " $$"
      ],
      "text/plain": [
       "A JuMP Model\n",
       "Feasibility problem with:\n",
       "Variables: 0\n",
       "Model mode: AUTOMATIC\n",
       "CachingOptimizer state: EMPTY_OPTIMIZER\n",
       "Solver name: GLPK"
      ]
     },
     "execution_count": 8,
     "metadata": {},
     "output_type": "execute_result"
    }
   ],
   "source": [
    "# MODEL CONSTRUCTION\n",
    "# ------------------\n",
    "model = Model(GLPK.Optimizer)"
   ]
  },
  {
   "cell_type": "code",
   "execution_count": 9,
   "metadata": {},
   "outputs": [
    {
     "data": {
      "text/plain": [
       "1-dimensional DenseAxisArray{VariableRef,1,...} with index sets:\n",
       "    Dimension 1, 1:16\n",
       "And data, a 16-element Array{VariableRef,1}:\n",
       " x[1]\n",
       " x[2]\n",
       " x[3]\n",
       " x[4]\n",
       " x[5]\n",
       " x[6]\n",
       " x[7]\n",
       " x[8]\n",
       " x[9]\n",
       " x[10]\n",
       " x[11]\n",
       " x[12]\n",
       " x[13]\n",
       " x[14]\n",
       " x[15]\n",
       " x[16]"
      ]
     },
     "execution_count": 9,
     "metadata": {},
     "output_type": "execute_result"
    }
   ],
   "source": [
    "# VARIABLES\n",
    "# ---------\n",
    "@variable(model,x[n],Bin)"
   ]
  },
  {
   "cell_type": "code",
   "execution_count": 10,
   "metadata": {},
   "outputs": [
    {
     "data": {
      "text/latex": [
       "budget : $ 2.925e6 x_{1} + 1.0e7 x_{2} + 3.75e6 x_{3} + 3.5e6 x_{4} + 325000 x_{5} + 8.95e6 x_{6} + 1.95e6 x_{7} + 1.75e6 x_{8} + 4.9e6 x_{9} + 1.65e6 x_{10} + 1.125e6 x_{11} + 2.5e6 x_{12} + 1.975e6 x_{13} + 3.75e6 x_{14} + 1.475e6 x_{15} + 750000 x_{16} \\leq 1.0e7 $"
      ],
      "text/plain": [
       "budget : 2.925e6 x[1] + 1.0e7 x[2] + 3.75e6 x[3] + 3.5e6 x[4] + 325000 x[5] + 8.95e6 x[6] + 1.95e6 x[7] + 1.75e6 x[8] + 4.9e6 x[9] + 1.65e6 x[10] + 1.125e6 x[11] + 2.5e6 x[12] + 1.975e6 x[13] + 3.75e6 x[14] + 1.475e6 x[15] + 750000 x[16] <= 1.0e7"
      ]
     },
     "execution_count": 10,
     "metadata": {},
     "output_type": "execute_result"
    }
   ],
   "source": [
    "# CONSTRAINTS\n",
    "# -----------\n",
    "@constraint(model,budget,sum((x[i]*quinta[i,3]) for i in n) <= 10000000)"
   ]
  },
  {
   "cell_type": "code",
   "execution_count": 11,
   "metadata": {},
   "outputs": [
    {
     "data": {
      "text/latex": [
       "$$ 44.25989999999999 x_{1} + 53.36409999999999 x_{2} + 42.99189999999999 x_{3} + 42.58169999999999 x_{4} + 37.30769999999999 x_{5} + 49.0842 x_{6} + 23.743299999999994 x_{7} + 23.450299999999995 x_{8} + 28.665699999999998 x_{9} + 38.9173 x_{10} + 38.0383 x_{11} + 40.3237 x_{12} + 39.4447 x_{13} + 42.3747 x_{14} + 38.6243 x_{15} + 37.3937 x_{16} $$"
      ],
      "text/plain": [
       "44.25989999999999 x[1] + 53.36409999999999 x[2] + 42.99189999999999 x[3] + 42.58169999999999 x[4] + 37.30769999999999 x[5] + 49.0842 x[6] + 23.743299999999994 x[7] + 23.450299999999995 x[8] + 28.665699999999998 x[9] + 38.9173 x[10] + 38.0383 x[11] + 40.3237 x[12] + 39.4447 x[13] + 42.3747 x[14] + 38.6243 x[15] + 37.3937 x[16]"
      ]
     },
     "execution_count": 11,
     "metadata": {},
     "output_type": "execute_result"
    }
   ],
   "source": [
    "# OBJECTIVE\n",
    "# ---------\n",
    "@objective(model,Max,sum(x[i]*profit[i] for i in n))"
   ]
  },
  {
   "cell_type": "code",
   "execution_count": 12,
   "metadata": {},
   "outputs": [
    {
     "name": "stdout",
     "output_type": "stream",
     "text": [
      "The optimization problem to be solved is:\n",
      "Max 44.25989999999999 x[1] + 53.36409999999999 x[2] + 42.99189999999999 x[3] + 42.58169999999999 x[4] + 37.30769999999999 x[5] + 49.0842 x[6] + 23.743299999999994 x[7] + 23.450299999999995 x[8] + 28.665699999999998 x[9] + 38.9173 x[10] + 38.0383 x[11] + 40.3237 x[12] + 39.4447 x[13] + 42.3747 x[14] + 38.6243 x[15] + 37.3937 x[16]\n",
      "Subject to\n",
      " budget : 2.925e6 x[1] + 1.0e7 x[2] + 3.75e6 x[3] + 3.5e6 x[4] + 325000 x[5] + 8.95e6 x[6] + 1.95e6 x[7] + 1.75e6 x[8] + 4.9e6 x[9] + 1.65e6 x[10] + 1.125e6 x[11] + 2.5e6 x[12] + 1.975e6 x[13] + 3.75e6 x[14] + 1.475e6 x[15] + 750000 x[16] <= 1.0e7\n",
      " x[1] binary\n",
      " x[2] binary\n",
      " x[3] binary\n",
      " x[4] binary\n",
      " x[5] binary\n",
      " x[6] binary\n",
      " x[7] binary\n",
      " x[8] binary\n",
      " x[9] binary\n",
      " x[10] binary\n",
      " x[11] binary\n",
      " x[12] binary\n",
      " x[13] binary\n",
      " x[14] binary\n",
      " x[15] binary\n",
      " x[16] binary\n"
     ]
    }
   ],
   "source": [
    "# CHECK THE MODEL\n",
    "# --------\n",
    "println(\"The optimization problem to be solved is:\")\n",
    "print(model)"
   ]
  },
  {
   "cell_type": "code",
   "execution_count": 13,
   "metadata": {},
   "outputs": [
    {
     "data": {
      "text/plain": [
       "OPTIMAL::TerminationStatusCode = 1"
      ]
     },
     "execution_count": 13,
     "metadata": {},
     "output_type": "execute_result"
    }
   ],
   "source": [
    "# SOLVE IT\n",
    "# --------\n",
    "status = optimize!(model) # solves the model  \n",
    "termination_status(model)"
   ]
  },
  {
   "cell_type": "code",
   "execution_count": 14,
   "metadata": {},
   "outputs": [
    {
     "name": "stdout",
     "output_type": "stream",
     "text": [
      "i.\n",
      "Objective value: 270.04970000000003\n",
      "Eureka, California: 0.0\n",
      "Fresno, California: 0.0\n",
      "Fresno, California: 0.0\n",
      "Fresno, California: 0.0\n",
      "Fresno, California: 1.0\n",
      "Long Beach, California: 0.0\n",
      "Los Angeles, California: 0.0\n",
      "Los Angeles, California: 0.0\n",
      "Los Angeles, California: 0.0\n",
      "South Lake Tahoe, California: 1.0\n",
      "South Lake Tahoe, California: 1.0\n",
      "South Lake Tahoe, California: 1.0\n",
      "South Lake Tahoe, California: 1.0\n",
      "South Lake Tahoe, California: 0.0\n",
      "South Lake Tahoe, California: 1.0\n",
      "South Lake Tahoe, California: 1.0\n",
      "Number of hotels selected: 7.0\n"
     ]
    }
   ],
   "source": [
    "# DISPLAY THE RESULTS\n",
    "# -------------------\n",
    "println(\"i.\")\n",
    "println(\"Objective value: \", objective_value(model)) \n",
    "for i in n\n",
    "    println(quinta[i,2], \": \", value.(x[i]))\n",
    "end\n",
    "println(\"Number of hotels selected: \", sum(value.(x)))"
   ]
  },
  {
   "cell_type": "markdown",
   "metadata": {},
   "source": [
    "ii. The objective value of 270.04 is much better than the greedy solution."
   ]
  },
  {
   "cell_type": "markdown",
   "metadata": {},
   "source": [
    "# Part (d)\n",
    "\n",
    "i. We expect the new objective value to be lower than before, as we have added new constraints. "
   ]
  },
  {
   "cell_type": "code",
   "execution_count": 15,
   "metadata": {},
   "outputs": [
    {
     "name": "stdout",
     "output_type": "stream",
     "text": [
      "ii.\n",
      "Objective value: 205.71679999999992\n",
      "Eureka, California: 1.0\n",
      "Fresno, California: 0.0\n",
      "Fresno, California: 0.0\n",
      "Fresno, California: 0.0\n",
      "Fresno, California: 1.0\n",
      "Long Beach, California: 0.0\n",
      "Los Angeles, California: 1.0\n",
      "Los Angeles, California: 1.0\n",
      "Los Angeles, California: 0.0\n",
      "South Lake Tahoe, California: 1.0\n",
      "South Lake Tahoe, California: 1.0\n",
      "South Lake Tahoe, California: 0.0\n",
      "South Lake Tahoe, California: 0.0\n",
      "South Lake Tahoe, California: 0.0\n",
      "South Lake Tahoe, California: 0.0\n",
      "South Lake Tahoe, California: 0.0\n",
      "Number of hotels selected: 6.0\n"
     ]
    }
   ],
   "source": [
    "#@constraint(model,x[1] <= 2) #Eureka\n",
    "@constraint(model,x[2]+x[3]+x[4]+x[5] <= 2) #Fresno\n",
    "#@constraint(model,x[6] <= 2) #Long Beach\n",
    "@constraint(model,x[7]+x[8]+x[9] <= 2) #Los Angeles\n",
    "@constraint(model,x[10]+x[11]+x[12]+x[13]+x[14]+x[15]+x[16] <= 2) #South Lake Tahoe\n",
    "\n",
    "status = optimize!(model) # solves the model  \n",
    "termination_status(model)\n",
    "\n",
    "println(\"ii.\")\n",
    "println(\"Objective value: \", objective_value(model)) \n",
    "for i in n\n",
    "    println(quinta[i,2], \": \", value.(x[i]))\n",
    "end\n",
    "println(\"Number of hotels selected: \", sum(value.(x)))"
   ]
  }
 ],
 "metadata": {
  "kernelspec": {
   "display_name": "Julia 1.5.3",
   "language": "julia",
   "name": "julia-1.5"
  },
  "language_info": {
   "file_extension": ".jl",
   "mimetype": "application/julia",
   "name": "julia",
   "version": "1.5.3"
  }
 },
 "nbformat": 4,
 "nbformat_minor": 2
}
