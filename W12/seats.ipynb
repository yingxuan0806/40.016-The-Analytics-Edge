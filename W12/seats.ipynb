{
 "cells": [
  {
   "cell_type": "code",
   "execution_count": 29,
   "metadata": {},
   "outputs": [
    {
     "data": {
      "text/latex": [
       "$$ \\begin{alignat*}{1}\\text{feasibility}\\\\\n",
       "\\text{Subject to} \\quad\\end{alignat*}\n",
       " $$"
      ],
      "text/plain": [
       "A JuMP Model\n",
       "Feasibility problem with:\n",
       "Variables: 0\n",
       "Model mode: AUTOMATIC\n",
       "CachingOptimizer state: EMPTY_OPTIMIZER\n",
       "Solver name: GLPK"
      ]
     },
     "execution_count": 29,
     "metadata": {},
     "output_type": "execute_result"
    }
   ],
   "source": [
    "# LOAD PACKAGES\n",
    "# -------------\n",
    "using JuMP  # Need to say it whenever we use JuMP\n",
    "using GLPK  # Loading the GLPK module for using its solver\n",
    "\n",
    "# MODEL CONSTRUCTION\n",
    "# ------------------\n",
    "model = Model(GLPK.Optimizer)"
   ]
  },
  {
   "cell_type": "code",
   "execution_count": 30,
   "metadata": {},
   "outputs": [
    {
     "data": {
      "text/plain": [
       "3-element Array{Int64,1}:\n",
       " 140\n",
       " 120\n",
       " 100"
      ]
     },
     "execution_count": 30,
     "metadata": {},
     "output_type": "execute_result"
    }
   ],
   "source": [
    "# INPUT DATA\n",
    "# ----------\n",
    "\n",
    "n = 3 # no. of (integer) decision variables for x, y, z\n",
    "\n",
    "# coefficients for constraints\n",
    "demand_1 = [20; 40; 60] # demand LAX -> DFW\n",
    "demand_2 = [80; 60; 70] # demand LAX -> JFK\n",
    "demand_3 = [20; 20; 30] # demand DFW -> JFK \n",
    "\n",
    "# coefficients for obf. f.\n",
    "c = [100; 90; 80]\n",
    "d = [215; 185; 145]\n",
    "e = [140; 120; 100]"
   ]
  },
  {
   "cell_type": "code",
   "execution_count": 31,
   "metadata": {},
   "outputs": [
    {
     "data": {
      "text/plain": [
       "3-element Array{VariableRef,1}:\n",
       " z[1]\n",
       " z[2]\n",
       " z[3]"
      ]
     },
     "execution_count": 31,
     "metadata": {},
     "output_type": "execute_result"
    }
   ],
   "source": [
    "# VARIABLES\n",
    "# ---------\n",
    "\n",
    "# We work with three vectors of decision variables: x, y, and z\n",
    "@variable(model, x[1:n]>=0, Int) # LAX -> DFW \n",
    "@variable(model, y[1:n]>=0, Int) # LAX -> JFK\n",
    "@variable(model, z[1:n]>=0, Int) # DFW -> JFK"
   ]
  },
  {
   "cell_type": "code",
   "execution_count": 32,
   "metadata": {},
   "outputs": [
    {
     "data": {
      "text/plain": [
       "3-element Array{ConstraintRef{Model,MathOptInterface.ConstraintIndex{MathOptInterface.ScalarAffineFunction{Float64},MathOptInterface.LessThan{Float64}},ScalarShape},1}:\n",
       " z[1] ≤ 20.0\n",
       " z[2] ≤ 20.0\n",
       " z[3] ≤ 30.0"
      ]
     },
     "execution_count": 32,
     "metadata": {},
     "output_type": "execute_result"
    }
   ],
   "source": [
    "# CONSTRAINTS\n",
    "# -----------\n",
    "\n",
    "# We define a vector of constraints\n",
    "@constraint(model, sum(x) + sum(y) <= 300)         # capacity of LAX -> DFW\n",
    "@constraint(model, sum(y) + sum(z) <= 200)         # capacity of DFW -> JFK\n",
    "@constraint(model, [i = 1:3], x[i] <= demand_1[i]) # demand LAX -> DFW\n",
    "@constraint(model, [j = 1:3], y[j] <= demand_2[j]) # demand LAX -> JFK\n",
    "@constraint(model, [l = 1:3], z[l] <= demand_3[l]) # demand DFW -> JFK\n"
   ]
  },
  {
   "cell_type": "code",
   "execution_count": 33,
   "metadata": {
    "scrolled": true
   },
   "outputs": [
    {
     "name": "stdout",
     "output_type": "stream",
     "text": [
      "The optimization problem to be solved is:\n",
      "Max 100 x[1] + 90 x[2] + 80 x[3] + 215 y[1] + 185 y[2] + 145 y[3] + 140 z[1] + 120 z[2] + 100 z[3]\n",
      "Subject to\n",
      " x[1] + x[2] + x[3] + y[1] + y[2] + y[3] ≤ 300.0\n",
      " y[1] + y[2] + y[3] + z[1] + z[2] + z[3] ≤ 200.0\n",
      " x[1] ≤ 20.0\n",
      " x[2] ≤ 40.0\n",
      " x[3] ≤ 60.0\n",
      " y[1] ≤ 80.0\n",
      " y[2] ≤ 60.0\n",
      " y[3] ≤ 70.0\n",
      " z[1] ≤ 20.0\n",
      " z[2] ≤ 20.0\n",
      " z[3] ≤ 30.0\n",
      " x[1] ≥ 0.0\n",
      " x[2] ≥ 0.0\n",
      " x[3] ≥ 0.0\n",
      " y[1] ≥ 0.0\n",
      " y[2] ≥ 0.0\n",
      " y[3] ≥ 0.0\n",
      " z[1] ≥ 0.0\n",
      " z[2] ≥ 0.0\n",
      " z[3] ≥ 0.0\n",
      " x[1] integer\n",
      " x[2] integer\n",
      " x[3] integer\n",
      " y[1] integer\n",
      " y[2] integer\n",
      " y[3] integer\n",
      " z[1] integer\n",
      " z[2] integer\n",
      " z[3] integer\n"
     ]
    }
   ],
   "source": [
    "# OBJECTIVE\n",
    "# ---------\n",
    "\n",
    "# Maximize cTx + dTy + eTz\n",
    "@objective(model, Max, c'x + d'y + e'z)  \n",
    "\n",
    "# PRINT THE MODEL IN A HUMAN-READABLE FORMAT\n",
    "# ------------------------------------------\n",
    "println(\"The optimization problem to be solved is:\")\n",
    "print(model) # Shows the model constructed in a human-readable form"
   ]
  },
  {
   "cell_type": "code",
   "execution_count": 34,
   "metadata": {},
   "outputs": [
    {
     "data": {
      "text/plain": [
       "OPTIMAL::TerminationStatusCode = 1"
      ]
     },
     "execution_count": 34,
     "metadata": {},
     "output_type": "execute_result"
    }
   ],
   "source": [
    "# SOLVE IT\n",
    "# --------\n",
    "\n",
    "status = optimize!(model) # solves the model  \n",
    "termination_status(model)"
   ]
  },
  {
   "cell_type": "code",
   "execution_count": 35,
   "metadata": {},
   "outputs": [
    {
     "name": "stdout",
     "output_type": "stream",
     "text": [
      "Objective value: 47300.0\n",
      "x = [20.0, 40.0, 60.0]\n",
      "y = [80.0, 60.0, 40.0]\n",
      "z = [20.0, 0.0, 0.0]\n"
     ]
    }
   ],
   "source": [
    "# DISPLAY THE RESULTS\n",
    "# -------------------\n",
    "\n",
    "println(\"Objective value: \", objective_value(model)) \n",
    "println(\"x = \", value.(x)) \n",
    "println(\"y = \", value.(y)) \n",
    "println(\"z = \", value.(z)) "
   ]
  },
  {
   "cell_type": "code",
   "execution_count": null,
   "metadata": {},
   "outputs": [],
   "source": []
  }
 ],
 "metadata": {
  "kernelspec": {
   "display_name": "Julia 1.5.3",
   "language": "julia",
   "name": "julia-1.5"
  },
  "language_info": {
   "file_extension": ".jl",
   "mimetype": "application/julia",
   "name": "julia",
   "version": "1.5.3"
  }
 },
 "nbformat": 4,
 "nbformat_minor": 2
}
